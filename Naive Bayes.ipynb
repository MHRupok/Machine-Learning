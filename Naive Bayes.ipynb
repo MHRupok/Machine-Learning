{
 "cells": [
  {
   "cell_type": "code",
   "execution_count": 1,
   "metadata": {},
   "outputs": [],
   "source": [
    "import numpy as np\n",
    "import os\n",
    "import time\n"
   ]
  },
  {
   "cell_type": "code",
   "execution_count": 2,
   "metadata": {},
   "outputs": [],
   "source": [
    "spam=[\n",
    "    'সে ভাল না', \n",
    "    'সে খুব খারাপ মানুষ',\n",
    "    'আমি খারাপ আছি',\n",
    "    'রোবট খারাপ' \n",
    "]"
   ]
  },
  {
   "cell_type": "code",
   "execution_count": 3,
   "metadata": {},
   "outputs": [],
   "source": [
    "ham=[\n",
    "   'আমি ভাল আছি',\n",
    "   'সুন্দর সুন্দর রোবট',\n",
    "    'আমি রোবট ভালবাসি', \n",
    "    'সে সুন্দর',\n",
    "    'সে ভাল মানুষ' \n",
    "]"
   ]
  },
  {
   "cell_type": "code",
   "execution_count": null,
   "metadata": {},
   "outputs": [],
   "source": []
  },
  {
   "cell_type": "code",
   "execution_count": 4,
   "metadata": {},
   "outputs": [
    {
     "name": "stdout",
     "output_type": "stream",
     "text": [
      "[['সে', 'ভাল', 'না'], ['সে', 'খুব', 'খারাপ', 'মানুষ'], ['আমি', 'খারাপ', 'আছি'], ['রোবট', 'খারাপ']]\n"
     ]
    }
   ],
   "source": [
    "Spam=[]\n",
    "spam_len=len(spam)\n",
    "for item in spam:\n",
    "    i=item.split(' ')\n",
    "    Spam.append(i)\n",
    "print(Spam)"
   ]
  },
  {
   "cell_type": "code",
   "execution_count": 5,
   "metadata": {},
   "outputs": [
    {
     "name": "stdout",
     "output_type": "stream",
     "text": [
      "[['আমি', 'ভাল', 'আছি'], ['সুন্দর', 'সুন্দর', 'রোবট'], ['আমি', 'রোবট', 'ভালবাসি'], ['সে', 'সুন্দর'], ['সে', 'ভাল', 'মানুষ']]\n"
     ]
    }
   ],
   "source": [
    "Ham=[]\n",
    "ham_len=len(ham)\n",
    "for item in ham:\n",
    "    i=item.split(' ')\n",
    "    Ham.append(i)\n",
    "print(Ham)"
   ]
  },
  {
   "cell_type": "code",
   "execution_count": 6,
   "metadata": {},
   "outputs": [
    {
     "name": "stdout",
     "output_type": "stream",
     "text": [
      "['সে ভাল না', 'সে খুব খারাপ মানুষ', 'আমি খারাপ আছি', 'রোবট খারাপ', 'আমি ভাল আছি', 'সুন্দর সুন্দর রোবট', 'আমি রোবট ভালবাসি', 'সে সুন্দর', 'সে ভাল মানুষ']\n",
      "4 5 9\n"
     ]
    }
   ],
   "source": [
    "c=spam.copy()\n",
    "c.extend(ham)\n",
    "total_len=len(c)\n",
    "print(c)\n",
    "print(spam_len,ham_len,total_len)"
   ]
  },
  {
   "cell_type": "code",
   "execution_count": 7,
   "metadata": {},
   "outputs": [
    {
     "name": "stdout",
     "output_type": "stream",
     "text": [
      "Total: 9  Nspam: 4  Nham: 5\n"
     ]
    }
   ],
   "source": [
    "nc=len(c)\n",
    "ns=len(spam)\n",
    "nh=len(ham)\n",
    "print('Total:',nc,' Nspam:',ns,' Nham:',nh)"
   ]
  },
  {
   "cell_type": "code",
   "execution_count": 8,
   "metadata": {},
   "outputs": [
    {
     "name": "stdout",
     "output_type": "stream",
     "text": [
      "[1. 1. 1. 1. 0. 0. 0. 0. 0.]\n"
     ]
    }
   ],
   "source": [
    "y=np.zeros(len(c))\n",
    "for i in range(len(spam)):\n",
    "    y[i]=1\n",
    "print(y)\n",
    "    "
   ]
  },
  {
   "cell_type": "code",
   "execution_count": 9,
   "metadata": {},
   "outputs": [
    {
     "name": "stdout",
     "output_type": "stream",
     "text": [
      "{'সে': 2, 'ভাল': 1, 'না': 1, 'খুব': 1, 'খারাপ': 3, 'মানুষ': 1, 'আমি': 1, 'আছি': 1, 'রোবট': 1}\n",
      "{'আমি': 2, 'ভাল': 2, 'আছি': 1, 'সুন্দর': 3, 'রোবট': 2, 'ভালবাসি': 1, 'সে': 2, 'মানুষ': 1}\n",
      "{'সে': 4, 'ভাল': 3, 'না': 1, 'খুব': 1, 'খারাপ': 3, 'মানুষ': 2, 'আমি': 3, 'আছি': 2, 'রোবট': 3, 'সুন্দর': 3, 'ভালবাসি': 1} \n",
      "\n",
      "26 12 14\n"
     ]
    }
   ],
   "source": [
    "total={}\n",
    "spam_c={}\n",
    "ham_c={}\n",
    "for i in spam:\n",
    "    for j in i.split(' '):\n",
    "            if j in spam_c:\n",
    "                spam_c[j]+=1\n",
    "            else:\n",
    "                spam_c[j]=1\n",
    "print(spam_c);\n",
    "for i in ham:\n",
    "    for j in i.split(' '):\n",
    "            if j in ham_c:\n",
    "                ham_c[j]+=1\n",
    "            else:\n",
    "                ham_c[j]=1\n",
    "print(ham_c)\n",
    "for i in c:\n",
    "    for j in i.split(' '):\n",
    "            if j in total:\n",
    "                total[j]+=1\n",
    "            else:\n",
    "                total[j]=1\n",
    "print(total,\"\\n\")\n",
    "total_sum=sum(total.values())\n",
    "spam_sum=sum(spam_c.values())\n",
    "ham_sum=sum(ham_c.values())\n",
    "print(total_sum,spam_sum,ham_sum)"
   ]
  },
  {
   "cell_type": "code",
   "execution_count": 10,
   "metadata": {},
   "outputs": [
    {
     "name": "stdout",
     "output_type": "stream",
     "text": [
      "0.4444444444444444 0.5555555555555556 \n",
      "\n"
     ]
    }
   ],
   "source": [
    "p_spam=spam_len/total_len\n",
    "p_ham=ham_len/total_len\n",
    "print(p_spam,p_ham,\"\\n\")"
   ]
  },
  {
   "cell_type": "code",
   "execution_count": 11,
   "metadata": {},
   "outputs": [
    {
     "name": "stdout",
     "output_type": "stream",
     "text": [
      "{'সে': 0.15384615384615385, 'ভাল': 0.11538461538461539, 'না': 0.038461538461538464, 'খুব': 0.038461538461538464, 'খারাপ': 0.11538461538461539, 'মানুষ': 0.07692307692307693, 'আমি': 0.11538461538461539, 'আছি': 0.07692307692307693, 'রোবট': 0.11538461538461539, 'সুন্দর': 0.11538461538461539, 'ভালবাসি': 0.038461538461538464} \n",
      "\n",
      "{'সে': 0.16666666666666666, 'ভাল': 0.08333333333333333, 'না': 0.08333333333333333, 'খুব': 0.08333333333333333, 'খারাপ': 0.25, 'মানুষ': 0.08333333333333333, 'আমি': 0.08333333333333333, 'আছি': 0.08333333333333333, 'রোবট': 0.08333333333333333} \n",
      "\n",
      "{'আমি': 0.14285714285714285, 'ভাল': 0.14285714285714285, 'আছি': 0.07142857142857142, 'সুন্দর': 0.21428571428571427, 'রোবট': 0.14285714285714285, 'ভালবাসি': 0.07142857142857142, 'সে': 0.14285714285714285, 'মানুষ': 0.07142857142857142} \n",
      "\n"
     ]
    }
   ],
   "source": [
    "total_probability={}\n",
    "spam_probability={}\n",
    "ham_probability={}\n",
    "for i,j in total.items():\n",
    "    total_probability[i]=j/total_sum\n",
    "print(total_probability,\"\\n\")\n",
    "for i,j in spam_c.items():\n",
    "    spam_probability[i]=j/spam_sum\n",
    "print(spam_probability,\"\\n\")\n",
    "\n",
    "for i,j in ham_c.items():\n",
    "    ham_probability[i]=j/ham_sum\n",
    "\n",
    "print(ham_probability,\"\\n\")"
   ]
  },
  {
   "cell_type": "code",
   "execution_count": 12,
   "metadata": {},
   "outputs": [
    {
     "name": "stdout",
     "output_type": "stream",
     "text": [
      "spam->  0.5441434232586494 \n",
      "\n",
      "ham->  0.7907713349890217 \n",
      "\n",
      "54 % \n",
      "\n",
      "79 % \n",
      "\n"
     ]
    }
   ],
   "source": [
    "test='সে ভাল রোবট না'\n",
    "pSpam_ns=1\n",
    "pSpam_ds=1\n",
    "for i in test.split(' '):\n",
    "    if i in spam_probability:\n",
    "        pSpam_ns*=spam_probability[i]\n",
    "        pSpam_ds*=total_probability[i]\n",
    "pSpam_ns*=p_spam       \n",
    "res_spam=pSpam_ns/pSpam_ds\n",
    "print(\"spam-> \",res_spam,\"\\n\")\n",
    "pham_ns=1\n",
    "pham_ds=1\n",
    "for i in test.split(' '):\n",
    "    if i in ham_probability:\n",
    "        pham_ns*=ham_probability[i]\n",
    "        pham_ds*=total_probability[i]\n",
    "pham_ns*=p_ham\n",
    "res_ham=pham_ns/pham_ds\n",
    "print(\"ham-> \",res_ham,\"\\n\")\n",
    "\n",
    "print(int(res_spam*100),\"%\",\"\\n\")\n",
    "print(int(res_ham*100),\"%\",\"\\n\")"
   ]
  },
  {
   "cell_type": "code",
   "execution_count": null,
   "metadata": {},
   "outputs": [],
   "source": []
  },
  {
   "cell_type": "code",
   "execution_count": null,
   "metadata": {},
   "outputs": [],
   "source": []
  }
 ],
 "metadata": {
  "kernelspec": {
   "display_name": "Python 3",
   "language": "python",
   "name": "python3"
  },
  "language_info": {
   "codemirror_mode": {
    "name": "ipython",
    "version": 3
   },
   "file_extension": ".py",
   "mimetype": "text/x-python",
   "name": "python",
   "nbconvert_exporter": "python",
   "pygments_lexer": "ipython3",
   "version": "3.7.4"
  }
 },
 "nbformat": 4,
 "nbformat_minor": 2
}
