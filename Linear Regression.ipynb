{
 "cells": [
  {
   "cell_type": "code",
   "execution_count": 118,
   "metadata": {},
   "outputs": [],
   "source": [
    "import numpy as np\n",
    "import time \n",
    "import os\n",
    "import math\n",
    "import matplotlib.pyplot as plt\n",
    "import pandas as pd"
   ]
  },
  {
   "cell_type": "code",
   "execution_count": 119,
   "metadata": {},
   "outputs": [
    {
     "data": {
      "image/png": "[encoded data removed]",
      "text/plain": [
       "<Figure size 432x288 with 1 Axes>"
      ]
     },
     "metadata": {
      "needs_background": "light"
     },
     "output_type": "display_data"
    }
   ],
   "source": [
    "data = pd.read_csv('C:\\Salary2.csv')\n",
    "data.head()\n",
    "\n",
    "x = data['YearsExperience']\n",
    "y = data['Salary']\n",
    "\n",
    "\n",
    "\n",
    "xArray = np.array(x)\n",
    "yArray = np.array(y)\n",
    "\n",
    "yH = []\n",
    "\n",
    "\n",
    "plt.scatter(x, y, color = 'blue') \n",
    "plt.title('x vs y')\n",
    "plt.xlabel('x data')\n",
    "plt.ylabel('y data')\n",
    "plt.show()\n"
   ]
  },
  {
   "cell_type": "code",
   "execution_count": 120,
   "metadata": {},
   "outputs": [],
   "source": [
    "def predict(xx, m,c):\n",
    "    xxv = [m*ix+c for ix in xx]\n",
    "    return xxv\n",
    "    \n",
    "    \n",
    "    "
   ]
  },
  {
   "cell_type": "code",
   "execution_count": null,
   "metadata": {},
   "outputs": [],
   "source": []
  },
  {
   "cell_type": "code",
   "execution_count": 121,
   "metadata": {},
   "outputs": [],
   "source": [
    "def Dm(X, Y, Y_Predict):\n",
    "    dm = 0\n",
    "    for i in range(len(X)):\n",
    "        dm = dm + X[i]*(Y[i]-Y_Predict[i])\n",
    "    dm = -2/len(X) * dm\n",
    "    \n",
    "    return dm"
   ]
  },
  {
   "cell_type": "code",
   "execution_count": 122,
   "metadata": {},
   "outputs": [],
   "source": [
    "def Dc(X, Y, Y_Predict):\n",
    "    dc = 0\n",
    "    for i in range(len(X)):\n",
    "        dc = dc + (Y[i]-Y_Predict[i])\n",
    "    dc = -2/len(Y) * dc\n",
    "    \n",
    "    return dc"
   ]
  },
  {
   "cell_type": "code",
   "execution_count": null,
   "metadata": {},
   "outputs": [],
   "source": []
  },
  {
   "cell_type": "code",
   "execution_count": 123,
   "metadata": {},
   "outputs": [],
   "source": [
    "def error(Y, Y_Predict):\n",
    "    err = 0\n",
    "    for i in range(len(Y)):\n",
    "        err = err+ (Y[i]-Y_Predict[i]) * (Y[i]-Y_Predict[i])\n",
    "    err = err / len(Y)\n",
    "    return err"
   ]
  },
  {
   "cell_type": "code",
   "execution_count": 124,
   "metadata": {},
   "outputs": [
    {
     "name": "stdout",
     "output_type": "stream",
     "text": [
      "[21.1, 21.3, 21.5, 22.0, 22.2, 22.9, 23.0, 23.2, 23.2, 23.7, 23.9, 24.0, 24.0, 24.1, 24.5, 24.9, 25.1, 25.3, 25.9, 26.0, 26.8, 27.1, 27.9, 28.2, 28.7, 29.0, 29.5, 29.6, 30.3]\n"
     ]
    }
   ],
   "source": [
    "m = 1\n",
    "c =20\n",
    "yp = predict(x,m,c)\n",
    "print(yp)"
   ]
  },
  {
   "cell_type": "code",
   "execution_count": 125,
   "metadata": {},
   "outputs": [
    {
     "name": "stdout",
     "output_type": "stream",
     "text": [
      "-899197.0172413792\n"
     ]
    }
   ],
   "source": [
    "dmm = Dm(x, y, yp)\n",
    "print(dmm)"
   ]
  },
  {
   "cell_type": "code",
   "execution_count": 126,
   "metadata": {},
   "outputs": [
    {
     "name": "stdout",
     "output_type": "stream",
     "text": [
      "-148792.35172413793\n"
     ]
    }
   ],
   "source": [
    "dcc = Dc(x, y, yp)\n",
    "print(dcc)"
   ]
  },
  {
   "cell_type": "code",
   "execution_count": 127,
   "metadata": {},
   "outputs": [],
   "source": [
    "m = 0\n",
    "c = 0\n",
    "L = 0.0001\n",
    "\n",
    "epochs = 30000"
   ]
  },
  {
   "cell_type": "code",
   "execution_count": 128,
   "metadata": {},
   "outputs": [
    {
     "name": "stdout",
     "output_type": "stream",
     "text": [
      "10576.920938703106 18712.720054794212\n"
     ]
    }
   ],
   "source": [
    "#Gradient Descent\n",
    "\n",
    "ERROR = []\n",
    "\n",
    "for i in range (epochs):\n",
    "    yp = predict(x,m,c)\n",
    "    ae = error(y,yp)\n",
    "    ERROR.append(ae)\n",
    "    d_m = Dm(x,y,yp)\n",
    "    d_c = Dc(x,y,yp)\n",
    "    \n",
    "    m = m - (L*d_m)\n",
    "    c = c - (L*d_c)\n",
    "    \n",
    "print(m,c)"
   ]
  },
  {
   "cell_type": "code",
   "execution_count": 129,
   "metadata": {},
   "outputs": [
    {
     "data": {
      "image/png": "[encoded data removed]",
      "text/plain": [
       "<Figure size 432x288 with 1 Axes>"
      ]
     },
     "metadata": {
      "needs_background": "light"
     },
     "output_type": "display_data"
    }
   ],
   "source": [
    "\n",
    "\n",
    "Yp=[m*xx+c for xx in x]\n",
    "\n",
    "plt.scatter(x, y) \n",
    "plt.scatter(x, Yp, color='red')  # regression line\n",
    "plt.plot(x, Yp, color='red')  # regression line\n",
    "# plt.legend()\n",
    "plt.show()\n",
    "\n",
    "\n",
    "    "
   ]
  },
  {
   "cell_type": "code",
   "execution_count": 130,
   "metadata": {},
   "outputs": [
    {
     "data": {
      "image/png": "[encoded data removed]",
      "text/plain": [
       "<Figure size 432x288 with 1 Axes>"
      ]
     },
     "metadata": {
      "needs_background": "light"
     },
     "output_type": "display_data"
    }
   ],
   "source": [
    "plt.plot(ERROR)\n",
    "plt.show()\n",
    "\n",
    "\n"
   ]
  },
  {
   "cell_type": "code",
   "execution_count": null,
   "metadata": {},
   "outputs": [],
   "source": []
  }
 ],
 "metadata": {
  "kernelspec": {
   "display_name": "Python 3",
   "language": "python",
   "name": "python3"
  },
  "language_info": {
   "codemirror_mode": {
    "name": "ipython",
    "version": 3
   },
   "file_extension": ".py",
   "mimetype": "text/x-python",
   "name": "python",
   "nbconvert_exporter": "python",
   "pygments_lexer": "ipython3",
   "version": "3.7.4"
  }
 },
 "nbformat": 4,
 "nbformat_minor": 2
}
