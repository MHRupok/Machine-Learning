{
 "cells": [
  {
   "cell_type": "code",
   "execution_count": 41,
   "metadata": {},
   "outputs": [],
   "source": [
    "import numpy as np \n",
    "import math\n",
    "import matplotlib.pyplot as plt\n",
    "import os\n",
    "import time\n",
    "import operator\n",
    "import pandas as pd"
   ]
  },
  {
   "cell_type": "code",
   "execution_count": null,
   "metadata": {},
   "outputs": [],
   "source": []
  },
  {
   "cell_type": "code",
   "execution_count": 44,
   "metadata": {},
   "outputs": [],
   "source": [
    "'''X=[[ 12 , 39 ],\n",
    "[ 20 , 36 ],\n",
    "[ 28 , 30 ],\n",
    "[ 18 , 52 ],\n",
    "[ 29 , 54 ],\n",
    "[ 33 , 46 ],\n",
    "[ 24 , 55 ],\n",
    "[ 45 , 59 ],\n",
    "[ 45 , 63 ],\n",
    "[ 52 , 70 ],\n",
    "[ 51 , 66 ],\n",
    "[ 52 , 63 ],\n",
    "[ 55 , 58 ],\n",
    "[ 53 , 23 ],\n",
    "[ 55 , 14 ],\n",
    "[ 61 , 8 ],\n",
    "[ 64 , 19 ],\n",
    "[ 69 , 7 ],\n",
    "[ 72 , 24 ]]\n",
    "'''\n",
    "x=[[2,4],\n",
    "   [5,4],\n",
    "   [4,6],\n",
    "   [7,10],\n",
    "   [1,1],\n",
    "   [8,9],\n",
    "   [11,13],\n",
    "   [10,12]\n",
    "   \n",
    "]\n",
    "\n",
    "X=np.array(x)\n",
    "centroids = {}\n",
    "oldCentroids = {}\n",
    "newCentroids = {}\n",
    "clusters = {}\n",
    "nitr = 100"
   ]
  },
  {
   "cell_type": "code",
   "execution_count": 45,
   "metadata": {},
   "outputs": [
    {
     "data": {
      "image/png": "[encoded data removed]",
      "text/plain": [
       "<Figure size 432x288 with 1 Axes>"
      ]
     },
     "metadata": {
      "needs_background": "light"
     },
     "output_type": "display_data"
    }
   ],
   "source": [
    "plt.scatter(X[:,0],X[:,1],marker='.' ) \n",
    "plt.show()"
   ]
  },
  {
   "cell_type": "code",
   "execution_count": 46,
   "metadata": {},
   "outputs": [],
   "source": [
    "def get_random(k):\n",
    "    \n",
    "    while True:\n",
    "        ri = np.random.choice(range(len(X)),k)\n",
    "        \n",
    "        \n",
    "        if(len(set(ri))==k):\n",
    "            for i in range(k):\n",
    "                centroids[i] = X[ri[i]]\n",
    "            break\n",
    "    return centroids\n",
    "        "
   ]
  },
  {
   "cell_type": "code",
   "execution_count": 47,
   "metadata": {},
   "outputs": [
    {
     "name": "stdout",
     "output_type": "stream",
     "text": [
      "{0: array([8, 9]), 1: array([ 7, 10])}\n"
     ]
    }
   ],
   "source": [
    "k = 2\n",
    "m=get_random(k)\n",
    "print(m)"
   ]
  },
  {
   "cell_type": "code",
   "execution_count": 48,
   "metadata": {},
   "outputs": [],
   "source": [
    "c1 = []\n",
    "c2 = []\n"
   ]
  },
  {
   "cell_type": "code",
   "execution_count": 49,
   "metadata": {},
   "outputs": [],
   "source": [
    "def distance(x1,x2):\n",
    "    return np.sqrt((x1[0]-x2[0])**2+(x1[1]-x2[1])**2)\n"
   ]
  },
  {
   "cell_type": "code",
   "execution_count": 50,
   "metadata": {},
   "outputs": [],
   "source": [
    "for k,v in m.items():\n",
    "    if(k==0):\n",
    "        c1 = v\n",
    "    elif(k==1):\n",
    "        c2 = v\n",
    "   "
   ]
  },
  {
   "cell_type": "code",
   "execution_count": 51,
   "metadata": {},
   "outputs": [],
   "source": [
    "def Group(x):\n",
    "    g1 = []\n",
    "    g2 = []\n",
    "   \n",
    "    \n",
    "    \n",
    "   \n",
    "    for i in range(len(X)):\n",
    "        c = X[i]\n",
    "        \n",
    "        m1 = distance(c,c1)\n",
    "        m2 = distance(c,c2)\n",
    "        \n",
    "        \n",
    "        if(m1<m2 ):\n",
    "            g1.append(c)\n",
    "        elif(m2<m1):\n",
    "            g2.append(c)\n",
    "        \n",
    "    return g1,g2"
   ]
  },
  {
   "cell_type": "code",
   "execution_count": null,
   "metadata": {},
   "outputs": [],
   "source": []
  },
  {
   "cell_type": "code",
   "execution_count": 52,
   "metadata": {},
   "outputs": [],
   "source": [
    "def avGroup(g):\n",
    "    avg = np.array(g).mean(axis=0)\n",
    "    return avg"
   ]
  },
  {
   "cell_type": "code",
   "execution_count": 53,
   "metadata": {},
   "outputs": [
    {
     "name": "stdout",
     "output_type": "stream",
     "text": [
      "[4.66666667 4.66666667] [ 7. 10.]\n",
      "[3.   3.75] [ 9. 11.]\n"
     ]
    }
   ],
   "source": [
    "g1,g2=Group(X)\n",
    "c1=avGroup(g1)\n",
    "c2=avGroup(g2)\n",
    "\n",
    "\n",
    "print(c1,c2)\n",
    "while True:\n",
    "    g1,g2 = Group(X)\n",
    "    c1=avGroup(g1)\n",
    "    c2=avGroup(g2)\n",
    "    \n",
    "    \n",
    "    g1,g2= Group(X)\n",
    "    c4=avGroup(g1)\n",
    "    c5=avGroup(g2)\n",
    "    \n",
    "    \n",
    "    if np.array_equal(c1,c4) and np.array_equal(c2,c5) :\n",
    "        print(c1,c2)\n",
    "        break\n",
    " "
   ]
  },
  {
   "cell_type": "code",
   "execution_count": 54,
   "metadata": {},
   "outputs": [
    {
     "data": {
      "text/plain": [
       "<matplotlib.collections.PathCollection at 0x1638500e348>"
      ]
     },
     "execution_count": 54,
     "metadata": {},
     "output_type": "execute_result"
    },
    {
     "data": {
      "image/png": "[encoded data removed]",
      "text/plain": [
       "<Figure size 432x288 with 1 Axes>"
      ]
     },
     "metadata": {
      "needs_background": "light"
     },
     "output_type": "display_data"
    }
   ],
   "source": [
    "plt.scatter(X[:,0],X[:,1],marker='*' ) \n",
    "plt.scatter(c1[0],c1[1],marker='o') \n",
    "plt.scatter(c2[0],c2[1],marker='o') \n",
    " "
   ]
  },
  {
   "cell_type": "code",
   "execution_count": 55,
   "metadata": {},
   "outputs": [],
   "source": [
    "for x in X:\n",
    "    dis = [distance(x,v) for keys,v in centroids.items()]\n",
    "    closest = dis.index(min(dis))\n",
    "    cc = list(centroids.values())[closest]\n",
    "    "
   ]
  },
  {
   "cell_type": "code",
   "execution_count": null,
   "metadata": {},
   "outputs": [],
   "source": []
  }
 ],
 "metadata": {
  "kernelspec": {
   "display_name": "Python 3",
   "language": "python",
   "name": "python3"
  },
  "language_info": {
   "codemirror_mode": {
    "name": "ipython",
    "version": 3
   },
   "file_extension": ".py",
   "mimetype": "text/x-python",
   "name": "python",
   "nbconvert_exporter": "python",
   "pygments_lexer": "ipython3",
   "version": "3.7.4"
  }
 },
 "nbformat": 4,
 "nbformat_minor": 2
}
