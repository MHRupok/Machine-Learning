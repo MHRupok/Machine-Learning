{
 "cells": [
  {
   "cell_type": "code",
   "execution_count": 62,
   "metadata": {},
   "outputs": [],
   "source": [
    "import cv2\n",
    "import numpy as np\n",
    "import os\n",
    "import time\n",
    "import math\n",
    "import pandas as pd\n",
    "import matplotlib.pyplot as plt\n",
    "import sys\n",
    "from sklearn.neural_network import MLPClassifier\n",
    "from sklearn.ensemble import RandomForestClassifier\n",
    "from sklearn.datasets import make_classification\n",
    "from sklearn.neighbors import KNeighborsClassifier\n",
    "from sklearn.metrics import accuracy_score\n",
    "from array import array\n",
    "from sklearn.linear_model import LogisticRegression\n",
    "from sklearn import svm"
   ]
  },
  {
   "cell_type": "code",
   "execution_count": 63,
   "metadata": {},
   "outputs": [],
   "source": [
    "xData = []\n",
    "yLabels = []\n",
    "yActual = []\n",
    "yPredict = []\n",
    "yTrue = []\n",
    "yPred = []\n",
    "y_actual = []\n",
    "\n"
   ]
  },
  {
   "cell_type": "code",
   "execution_count": 64,
   "metadata": {},
   "outputs": [],
   "source": [
    "Folder='E:/Training/'"
   ]
  },
  {
   "cell_type": "code",
   "execution_count": 65,
   "metadata": {},
   "outputs": [],
   "source": [
    "path = 'E:/Testing/'\n",
    "test_files= [os.path.join(path,f) for f in os.listdir(path) if f.endswith('.jpg')]\n",
    "\n",
    "for img in test_files:\n",
    "    temp = str(img)\n",
    "    temps = temp[11:-6]\n",
    "    s=temps.replace('_', '')\n",
    "    num = int(s)\n",
    "    yActual.append(num)\n",
    "    \n",
    "for value in yActual:\n",
    "    \n",
    "    yTrue.append(value)"
   ]
  },
  {
   "cell_type": "code",
   "execution_count": 66,
   "metadata": {},
   "outputs": [],
   "source": [
    "def convertImage(classes):\n",
    "    path = Folder+str(classes)\n",
    "    print(path)\n",
    "    \n",
    "    test_files= [os.path.join(path,f) for f in os.listdir(path) if f.endswith('.jpg')]\n",
    "\n",
    "    for img in test_files:\n",
    "        loadImage = cv2.imread(img)\n",
    "        gray = cv2.cvtColor(loadImage, cv2.COLOR_BGR2GRAY)\n",
    "        #blur = cv2.GaussianBlur(gray,(5,5),0)\n",
    "        blur = cv2.bilateralFilter(gray,10,75,75)\n",
    "        \n",
    "        xData.append(blur)\n",
    "        yLabels.append(classes)\n",
    "    "
   ]
  },
  {
   "cell_type": "code",
   "execution_count": 115,
   "metadata": {},
   "outputs": [
    {
     "name": "stdout",
     "output_type": "stream",
     "text": [
      "E:/Training/1\n",
      "E:/Training/2\n",
      "E:/Training/5\n",
      "E:/Training/10\n",
      "E:/Training/20\n",
      "E:/Training/50\n",
      "E:/Training/100\n",
      "E:/Training/500\n",
      "E:/Training/1000\n"
     ]
    }
   ],
   "source": [
    "convertImage(1)\n",
    "convertImage(2)\n",
    "convertImage(5)\n",
    "convertImage(10)\n",
    "convertImage(20)\n",
    "convertImage(50)\n",
    "convertImage(100)\n",
    "convertImage(500)\n",
    "convertImage(1000)"
   ]
  },
  {
   "cell_type": "code",
   "execution_count": 68,
   "metadata": {},
   "outputs": [
    {
     "name": "stdout",
     "output_type": "stream",
     "text": [
      "(1637, 30000)\n"
     ]
    }
   ],
   "source": [
    "X = np.asarray(xData)\n",
    "nsamples, nx, ny = X.shape\n",
    "trainX = X.reshape((nsamples,nx*ny))\n",
    "print(trainX.shape)"
   ]
  },
  {
   "cell_type": "code",
   "execution_count": 69,
   "metadata": {},
   "outputs": [
    {
     "name": "stdout",
     "output_type": "stream",
     "text": [
      "(333, 30000)\n"
     ]
    }
   ],
   "source": [
    "yData = []\n",
    "\n",
    "path = 'E:/Testing'\n",
    "test_files= [os.path.join(path,f) for f in os.listdir(path) if f.endswith('.jpg')]\n",
    "\n",
    "for img in test_files:\n",
    "    loadImage = cv2.imread(img)\n",
    "    gray = cv2.cvtColor(loadImage, cv2.COLOR_BGR2GRAY)\n",
    "    #blur = cv2.GaussianBlur(gray,(5,5),0)\n",
    "    blur = cv2.bilateralFilter(gray,10,75,75)\n",
    "    yData.append(blur)\n",
    "    tmp = str(test_files)\n",
    "    \n",
    "Y = np.asarray(yData)\n",
    "nsamples, nx, ny = Y.shape\n",
    "testY = Y.reshape((nsamples,nx*ny))\n",
    "print(testY.shape)"
   ]
  },
  {
   "cell_type": "markdown",
   "metadata": {},
   "source": [
    "# KNN"
   ]
  },
  {
   "cell_type": "code",
   "execution_count": 238,
   "metadata": {},
   "outputs": [
    {
     "data": {
      "text/plain": [
       "KNeighborsClassifier(algorithm='auto', leaf_size=30, metric='minkowski',\n",
       "                     metric_params=None, n_jobs=None, n_neighbors=3, p=2,\n",
       "                     weights='uniform')"
      ]
     },
     "execution_count": 238,
     "metadata": {},
     "output_type": "execute_result"
    }
   ],
   "source": [
    "neigh = KNeighborsClassifier(n_neighbors=3)\n",
    "neigh.fit(trainX, yLabels)"
   ]
  },
  {
   "cell_type": "code",
   "execution_count": 208,
   "metadata": {},
   "outputs": [],
   "source": [
    "yPredict = neigh.predict(testY)"
   ]
  },
  {
   "cell_type": "code",
   "execution_count": 209,
   "metadata": {},
   "outputs": [],
   "source": [
    "for val in yPredict:\n",
    "    nums = int(val)\n",
    "    yPred.append(nums)"
   ]
  },
  {
   "cell_type": "code",
   "execution_count": 210,
   "metadata": {},
   "outputs": [
    {
     "data": {
      "text/plain": [
       "0.47147147147147145"
      ]
     },
     "execution_count": 210,
     "metadata": {},
     "output_type": "execute_result"
    }
   ],
   "source": [
    "accuracy_score(yTrue, yPred)"
   ]
  },
  {
   "cell_type": "markdown",
   "metadata": {},
   "source": [
    "# Logistic Regression\n"
   ]
  },
  {
   "cell_type": "code",
   "execution_count": 109,
   "metadata": {},
   "outputs": [
    {
     "name": "stderr",
     "output_type": "stream",
     "text": [
      "C:\\Users\\mehed\\Anaconda3\\lib\\site-packages\\sklearn\\linear_model\\logistic.py:432: FutureWarning: Default solver will be changed to 'lbfgs' in 0.22. Specify a solver to silence this warning.\n",
      "  FutureWarning)\n",
      "C:\\Users\\mehed\\Anaconda3\\lib\\site-packages\\sklearn\\linear_model\\logistic.py:469: FutureWarning: Default multi_class will be changed to 'auto' in 0.22. Specify the multi_class option to silence this warning.\n",
      "  \"this warning.\", FutureWarning)\n"
     ]
    },
    {
     "data": {
      "text/plain": [
       "LogisticRegression(C=1.0, class_weight=None, dual=False, fit_intercept=True,\n",
       "                   intercept_scaling=1, l1_ratio=None, max_iter=100,\n",
       "                   multi_class='warn', n_jobs=None, penalty='l2',\n",
       "                   random_state=None, solver='warn', tol=1e-05, verbose=0,\n",
       "                   warm_start=False)"
      ]
     },
     "execution_count": 109,
     "metadata": {},
     "output_type": "execute_result"
    }
   ],
   "source": [
    "logisticRegr = LogisticRegression(tol=0.00001)\n",
    "logisticRegr.fit(trainX, yLabels)"
   ]
  },
  {
   "cell_type": "code",
   "execution_count": 110,
   "metadata": {},
   "outputs": [
    {
     "name": "stdout",
     "output_type": "stream",
     "text": [
      "[   5 1000 1000 1000 1000 1000 1000 1000 1000 1000 1000 1000 1000 1000\n",
      " 1000    5 1000 1000 1000 1000 1000 1000 1000    5 1000 1000 1000 1000\n",
      " 1000 1000 1000 1000 1000 1000 1000    5 1000 1000    5 1000 1000 1000\n",
      " 1000    5 1000 1000 1000 1000 1000 1000 1000 1000 1000  100  100  100\n",
      "  100  100  100  100  100  100  100  100  100  100  100  100  100  100\n",
      "  100  100  100  100  100  100  100  100  100  100  100  100  100  100\n",
      "  100  100  100  100  100  100   10   10   10   10   10   10    5   10\n",
      "   10   10   10   10   10   10   10   10   10   10   10   10   10   10\n",
      "   10   10   10   10   10   10   10   10   10   10   10   10   10   10\n",
      "   10    1    1    1    1    1    1    1    1   10    1    1    1    1\n",
      "    1    1    1    1    1    1    1    1   20   20   20   20   20   20\n",
      "   20   20   20   20   20   20   20   20   20  100   20   20   20   20\n",
      "   20   10   20   20   20   20   20   20   20   20   20   20   20   20\n",
      "   20   20   20    2    2    2    2    2    2    2    2    2    2    2\n",
      "    2    2    2    2    2    2    2    2    2    2    2    2    2    2\n",
      "    2    2    2    2    2    2    2    2    2   10    2    2  500   50\n",
      "  500  500  500  500  500  500  500  500  500  500  500  500  500  500\n",
      "  500  500  500  500  500  500  500  500  500  500  500  500  500  500\n",
      "  500  500  500  500  500  500  500   50   50   50   50   50   50   50\n",
      "   50   50   50   50   50   50   50   50   50   50   10   50   50  500\n",
      "   50   50   50   50   50   50   50   50   50   50   50   50   50   50\n",
      "   50   50    5    5    5    5    5    5    5    5    2    5    5    5\n",
      "    5    5    5    5    5    5    5    2    5    5    5    5    5    5\n",
      "    5    5    5    5    5    5    5    5    5    5    5]\n"
     ]
    }
   ],
   "source": [
    "predictions = logisticRegr.predict(testY)\n",
    "print(predictions)"
   ]
  },
  {
   "cell_type": "code",
   "execution_count": 114,
   "metadata": {},
   "outputs": [
    {
     "name": "stdout",
     "output_type": "stream",
     "text": [
      "95.1951951951952\n"
     ]
    }
   ],
   "source": [
    "score = logisticRegr.score(testY, yTrue)*100\n",
    "print(score)"
   ]
  },
  {
   "cell_type": "code",
   "execution_count": 113,
   "metadata": {},
   "outputs": [],
   "source": [
    "#10 ->948948948948949"
   ]
  },
  {
   "cell_type": "code",
   "execution_count": null,
   "metadata": {},
   "outputs": [],
   "source": []
  },
  {
   "cell_type": "code",
   "execution_count": 85,
   "metadata": {},
   "outputs": [],
   "source": [
    "f= open(\"E:/final.txt\",\"w+\")\n"
   ]
  },
  {
   "cell_type": "code",
   "execution_count": 86,
   "metadata": {},
   "outputs": [],
   "source": [
    "for i in range(len(predictions)):\n",
    "    \n",
    "    st = str(i)+ ',' +str(predictions[i])+'\\n'\n",
    "    f.write(st)"
   ]
  },
  {
   "cell_type": "code",
   "execution_count": 89,
   "metadata": {},
   "outputs": [
    {
     "name": "stderr",
     "output_type": "stream",
     "text": [
      "C:\\Users\\mehed\\Anaconda3\\lib\\site-packages\\sklearn\\ensemble\\forest.py:245: FutureWarning: The default value of n_estimators will change from 10 in version 0.20 to 100 in 0.22.\n",
      "  \"10 in version 0.20 to 100 in 0.22.\", FutureWarning)\n"
     ]
    },
    {
     "data": {
      "text/plain": [
       "RandomForestClassifier(bootstrap=True, class_weight=None, criterion='gini',\n",
       "                       max_depth=2, max_features='auto', max_leaf_nodes=None,\n",
       "                       min_impurity_decrease=0.0, min_impurity_split=None,\n",
       "                       min_samples_leaf=1, min_samples_split=2,\n",
       "                       min_weight_fraction_leaf=0.0, n_estimators=10,\n",
       "                       n_jobs=None, oob_score=False, random_state=0, verbose=0,\n",
       "                       warm_start=False)"
      ]
     },
     "execution_count": 89,
     "metadata": {},
     "output_type": "execute_result"
    }
   ],
   "source": [
    "clf = RandomForestClassifier(max_depth=2, random_state=0)\n",
    "clf.fit(trainX, yLabels)"
   ]
  },
  {
   "cell_type": "code",
   "execution_count": 91,
   "metadata": {},
   "outputs": [],
   "source": [
    "yPred = (clf.predict(testY))"
   ]
  },
  {
   "cell_type": "code",
   "execution_count": 92,
   "metadata": {},
   "outputs": [
    {
     "name": "stdout",
     "output_type": "stream",
     "text": [
      "[1000  100   10   10   10 1000 1000 1000 1000 1000 1000 1000  100 1000\n",
      " 1000   50  100 1000 1000   50  100 1000   10   10 1000 1000   50  100\n",
      "  100   10   10   10   10  100 1000 1000  100  100   10  100   10   10\n",
      "   10   50 1000 1000 1000   10 1000  100  100  100   10  100    5   10\n",
      "   10    2    5 1000    5  100   10   10   10    5   10    5    5    5\n",
      "    5  100    5    5  100   10    5   10   10    2    5    5    5 1000\n",
      "  100    5  100 1000   10   10   10   10   10   10   10   10   10   10\n",
      "   10   10   10   10   10   10   10   10   50   50   10   10   10   10\n",
      "   10   10   50   50   10   10   10   10   10   10   10   10   10   10\n",
      "   10   10   10   10   10    2    5   10    2   10    1    1    1   10\n",
      "    1    1    1    1    1   10   10  100   10   10   20   50   20   20\n",
      "   10 1000   10   50 1000   10   10   10   10    5   10   10    2   10\n",
      "   10   10   10   10   10   10   10 1000 1000   50   20   10   10   10\n",
      "   20 1000 1000   10   10   10   10   10  100  100  100   10   10   10\n",
      "   10   10   10   10   10   10   10   10   10   10   10   10    5    5\n",
      "    2   10   10   10    5    2   10  100   10    5    5   10    2  100\n",
      " 1000   10   10   10    2  100  100  100  100 1000    5 1000    5   10\n",
      "   10   10   10    5  100    5    2    5   10   10  100  100   10   10\n",
      "   10    5    2    2    1    5    5   10   10   50   10   10   10   10\n",
      "   10    5    5   50   50   10   50   10   10    2   10    5    2    5\n",
      "    2   50   10   10   10   10   10    5   10   10   10    5   50    5\n",
      "    2   50   50   50   10   10    2    5   10   10    2   10   10   10\n",
      "   10   10   10   10  100   10   10   10   10    5 1000   10   10   10\n",
      "   10   10   10  100   10    2   50    5    2    1   10]\n"
     ]
    }
   ],
   "source": [
    "print(yPred)"
   ]
  },
  {
   "cell_type": "code",
   "execution_count": 93,
   "metadata": {},
   "outputs": [
    {
     "data": {
      "text/plain": [
       "0.2552552552552553"
      ]
     },
     "execution_count": 93,
     "metadata": {},
     "output_type": "execute_result"
    }
   ],
   "source": [
    "accuracy_score(yTrue, yPred)"
   ]
  },
  {
   "cell_type": "code",
   "execution_count": null,
   "metadata": {},
   "outputs": [],
   "source": []
  }
 ],
 "metadata": {
  "kernelspec": {
   "display_name": "Python 3",
   "language": "python",
   "name": "python3"
  },
  "language_info": {
   "codemirror_mode": {
    "name": "ipython",
    "version": 3
   },
   "file_extension": ".py",
   "mimetype": "text/x-python",
   "name": "python",
   "nbconvert_exporter": "python",
   "pygments_lexer": "ipython3",
   "version": "3.7.4"
  }
 },
 "nbformat": 4,
 "nbformat_minor": 2
}
